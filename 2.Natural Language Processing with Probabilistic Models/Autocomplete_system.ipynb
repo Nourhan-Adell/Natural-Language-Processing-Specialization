{
  "nbformat": 4,
  "nbformat_minor": 0,
  "metadata": {
    "colab": {
      "name": "Autocomplete system.ipynb",
      "provenance": [],
      "collapsed_sections": [],
      "authorship_tag": "ABX9TyNz9Jy+L18g9l5tm2W20fIA",
      "include_colab_link": true
    },
    "kernelspec": {
      "name": "python3",
      "display_name": "Python 3"
    },
    "language_info": {
      "name": "python"
    }
  },
  "cells": [
    {
      "cell_type": "markdown",
      "metadata": {
        "id": "view-in-github",
        "colab_type": "text"
      },
      "source": [
        "<a href=\"https://colab.research.google.com/github/Nourhan-Adell/Natural-language-processing/blob/main/Autocomplete_system.ipynb\" target=\"_parent\"><img src=\"https://colab.research.google.com/assets/colab-badge.svg\" alt=\"Open In Colab\"/></a>"
      ]
    },
    {
      "cell_type": "markdown",
      "source": [
        "# **Language Models: Auto-Complete**\n",
        "**Steps:**\n",
        "\n",
        "1.    Load and preprocess data\n",
        "  *   Load and tokenize data.\n",
        "  *   Split the sentences into train and test sets.\n",
        "  *    Replace words with a low frequency by an unknown marker <unk>.\n",
        "\n",
        "2.    Develop N-gram based language models\n",
        "  *   Compute the count of n-grams from a given data set.\n",
        "  *   Estimate the conditional probability of a next word with k-smoothing.\n",
        "\n",
        "3.    Evaluate the N-gram models by computing the perplexity score.\n",
        "4.    Use your own model to suggest an upcoming word given your sentence.\n"
      ],
      "metadata": {
        "id": "i4bYMatv6gVE"
      }
    },
    {
      "cell_type": "code",
      "execution_count": 1,
      "metadata": {
        "colab": {
          "base_uri": "https://localhost:8080/"
        },
        "id": "fcIFMlw06KEl",
        "outputId": "9a4a96ef-5c1b-4705-a294-3e1ce9ac6ff9"
      },
      "outputs": [
        {
          "output_type": "stream",
          "name": "stdout",
          "text": [
            "[nltk_data] Downloading package punkt to /root/nltk_data...\n",
            "[nltk_data]   Package punkt is already up-to-date!\n"
          ]
        }
      ],
      "source": [
        "import math\n",
        "import random\n",
        "import numpy as np\n",
        "import pandas as pd\n",
        "import nltk\n",
        "nltk.download('punkt')\n",
        "import w3_unittest\n",
        "nltk.data.path.append('.')"
      ]
    },
    {
      "cell_type": "markdown",
      "source": [
        "# **Part 1: Load and Preprocess Data**\n",
        "\n",
        "## **Part 1.1: Load the data**"
      ],
      "metadata": {
        "id": "foi3ga5c72tR"
      }
    },
    {
      "cell_type": "code",
      "source": [
        "with open('/content/en_US.twitter.txt','r') as file:\n",
        "  data = file.read()\n",
        "\n",
        "print('Data type: ', type(data))\n",
        "print(\"Number of letters: \", len(data))\n",
        "print(\"First 300 letters of the data\")\n",
        "display(data[:300])\n",
        "print(\"-------\")\n",
        "\n",
        "print('Last 300 letters of the data')\n",
        "display(data[-300: ])"
      ],
      "metadata": {
        "colab": {
          "base_uri": "https://localhost:8080/",
          "height": 214
        },
        "id": "0KLhVuIw7zXO",
        "outputId": "0723564a-a969-421d-9361-78b8463b7074"
      },
      "execution_count": 2,
      "outputs": [
        {
          "output_type": "stream",
          "name": "stdout",
          "text": [
            "Data type:  <class 'str'>\n",
            "Number of letters:  3335477\n",
            "First 300 letters of the data\n"
          ]
        },
        {
          "output_type": "display_data",
          "data": {
            "text/plain": [
              "\"How are you? Btw thanks for the RT. You gonna be in DC anytime soon? Love to see you. Been way, way too long.\\nWhen you meet someone special... you'll know. Your heart will beat more rapidly and you'll smile for no reason.\\nthey've decided its more fun if I don't.\\nSo Tired D; Played Lazer Tag & Ran A \""
            ],
            "application/vnd.google.colaboratory.intrinsic+json": {
              "type": "string"
            }
          },
          "metadata": {}
        },
        {
          "output_type": "stream",
          "name": "stdout",
          "text": [
            "-------\n",
            "Last 300 letters of the data\n"
          ]
        },
        {
          "output_type": "display_data",
          "data": {
            "text/plain": [
              "\"ust had one a few weeks back....hopefully we will be back soon! wish you the best yo\\nColombia is with an 'o'...“: We now ship to 4 countries in South America (fist pump). Please welcome Columbia to the Stunner Family”\\n#GutsiestMovesYouCanMake Giving a cat a bath.\\nCoffee after 5 was a TERRIBLE idea.\\n\""
            ],
            "application/vnd.google.colaboratory.intrinsic+json": {
              "type": "string"
            }
          },
          "metadata": {}
        }
      ]
    },
    {
      "cell_type": "markdown",
      "source": [
        "## **Part 1.2 Pre-process the data**\n",
        "Preprocess this data with the following steps:\n",
        "\n",
        "1.    Split data into sentences using \"\\n\" as the delimiter.\n",
        "2.    Split each sentence into tokens. Note that in this assignment we use \"token\" and \"words\" interchangeably.\n",
        "3.    Assign sentences into train or test sets.\n",
        "4.    Find tokens that appear at least N times in the training data.\n",
        "5.    Replace tokens that appear less than N times by `<unk>`"
      ],
      "metadata": {
        "id": "PnySS0-q-DBd"
      }
    },
    {
      "cell_type": "code",
      "source": [
        "#1. split the data into sentences: \n",
        "def split_to_sentences(data):\n",
        "  sentences = data.split('\\n')\n",
        "  return sentences"
      ],
      "metadata": {
        "id": "-E-fR6iM8xUl"
      },
      "execution_count": 3,
      "outputs": []
    },
    {
      "cell_type": "code",
      "source": [
        "# test your code\n",
        "x = \"\"\"\n",
        "I have a pen.\\nI have an apple. \\nAh\\nApple pen.\\n\n",
        "\"\"\"\n",
        "print(x)\n",
        "\n",
        "split_to_sentences(x)"
      ],
      "metadata": {
        "colab": {
          "base_uri": "https://localhost:8080/"
        },
        "id": "Y9BDuJZ8_Rfb",
        "outputId": "50cf21c0-05b5-4ecb-fb25-fffb79436cd9"
      },
      "execution_count": 4,
      "outputs": [
        {
          "output_type": "stream",
          "name": "stdout",
          "text": [
            "\n",
            "I have a pen.\n",
            "I have an apple. \n",
            "Ah\n",
            "Apple pen.\n",
            "\n",
            "\n"
          ]
        },
        {
          "output_type": "execute_result",
          "data": {
            "text/plain": [
              "['', 'I have a pen.', 'I have an apple. ', 'Ah', 'Apple pen.', '', '']"
            ]
          },
          "metadata": {},
          "execution_count": 4
        }
      ]
    },
    {
      "cell_type": "code",
      "source": [
        "# 2. Split each sentence into tokens\n",
        "\n",
        "def tokenize_sentences(sentences):\n",
        "  tokenized_sentences = []\n",
        "  for sentences in sentences:\n",
        "    # Convert to lowercase letters\n",
        "    sentence = sentences.lower()\n",
        "\n",
        "    # Convert into a list of words\n",
        "    tokenized = nltk.word_tokenize(sentence)\n",
        "    tokenized_sentences.append(tokenized)\n",
        "  \n",
        "  return tokenized_sentences"
      ],
      "metadata": {
        "id": "OnT-FBMc_TiC"
      },
      "execution_count": 5,
      "outputs": []
    },
    {
      "cell_type": "code",
      "source": [
        "# test your code\n",
        "sentences = [\"Sky is blue.\", \"Leaves are green.\", \"Roses are red.\"]\n",
        "tokenize_sentences(sentences)"
      ],
      "metadata": {
        "colab": {
          "base_uri": "https://localhost:8080/"
        },
        "id": "nXuo7G6FCVlI",
        "outputId": "145e15fd-dc7f-4a6a-b4be-44f4b32026f3"
      },
      "execution_count": 6,
      "outputs": [
        {
          "output_type": "execute_result",
          "data": {
            "text/plain": [
              "[['sky', 'is', 'blue', '.'],\n",
              " ['leaves', 'are', 'green', '.'],\n",
              " ['roses', 'are', 'red', '.']]"
            ]
          },
          "metadata": {},
          "execution_count": 6
        }
      ]
    },
    {
      "cell_type": "code",
      "source": [
        "# 3. Assign sentences into train or test sets.\n",
        "def get_tokenized_data(data):\n",
        "  sentences = split_to_sentences(data)\n",
        "  tokenized_sentences = tokenize_sentences(sentences)\n",
        "  return tokenized_sentences"
      ],
      "metadata": {
        "id": "hmO10spiCXBm"
      },
      "execution_count": 7,
      "outputs": []
    },
    {
      "cell_type": "code",
      "source": [
        "# test your function\n",
        "x = \"Sky is blue.\\nLeaves are green\\nRoses are red.\"\n",
        "get_tokenized_data(x)"
      ],
      "metadata": {
        "colab": {
          "base_uri": "https://localhost:8080/"
        },
        "id": "KakF_LuWD5IG",
        "outputId": "17670a97-189b-4f14-f95d-e35d91fc94ba"
      },
      "execution_count": 8,
      "outputs": [
        {
          "output_type": "execute_result",
          "data": {
            "text/plain": [
              "[['sky', 'is', 'blue', '.'],\n",
              " ['leaves', 'are', 'green'],\n",
              " ['roses', 'are', 'red', '.']]"
            ]
          },
          "metadata": {},
          "execution_count": 8
        }
      ]
    },
    {
      "cell_type": "code",
      "source": [
        "# Split into train and test sets\n",
        "tokenized_data = get_tokenized_data(data)\n",
        "random.seed(87)\n",
        "random.shuffle(tokenized_data)\n",
        "\n",
        "train_size = int(len(tokenized_data) * 0.8)\n",
        "train_data = tokenized_data[0 : train_size]\n",
        "test_data = tokenized_data[train_size: ]"
      ],
      "metadata": {
        "id": "-lpYId3zEvTD"
      },
      "execution_count": 9,
      "outputs": []
    },
    {
      "cell_type": "code",
      "source": [
        "print(\"{} data are split into {} train and {} test set\".format(\n",
        "    len(tokenized_data), len(train_data), len(test_data)))\n",
        "\n",
        "print(\"First training sample:\")\n",
        "print(train_data[0])\n",
        "      \n",
        "print(\"First test sample\")\n",
        "print(test_data[0])"
      ],
      "metadata": {
        "colab": {
          "base_uri": "https://localhost:8080/"
        },
        "id": "QloyG0pLFaij",
        "outputId": "33fcab62-7c7a-4385-8af7-e51f726d58e5"
      },
      "execution_count": 10,
      "outputs": [
        {
          "output_type": "stream",
          "name": "stdout",
          "text": [
            "47962 data are split into 38369 train and 9593 test set\n",
            "First training sample:\n",
            "['i', '❤', 'and', 'her', 'boo', 'relationship', 'they', 'so', 'thuged', 'out', '!', '!']\n",
            "First test sample\n",
            "['better', 'than', '``', 'misplaced', 'quotation', 'marks', \"''\", 'rt', ':', 'lately', 'i', 'find', 'that', 'i', 'am', 'adding', 'too', 'many', 'exclamation', 'points', 'where', 'they', 'do', \"n't\", 'belong', '!']\n"
          ]
        }
      ]
    },
    {
      "cell_type": "code",
      "source": [
        "# 4. Find tokens that appear at least N times in the training data\n",
        "def count_words(tokenize_sentences):\n",
        "  word_counts = {}\n",
        "  for sentence in tokenize_sentences:\n",
        "    for token in sentence:\n",
        "      if token not in word_counts:\n",
        "        word_counts[token] = 1\n",
        "      else:\n",
        "        word_counts[token] += 1\n",
        "  return word_counts"
      ],
      "metadata": {
        "id": "Y4nezfA3FfOh"
      },
      "execution_count": 11,
      "outputs": []
    },
    {
      "cell_type": "code",
      "source": [
        "# test your code\n",
        "tokenized_sentences = [['sky', 'is', 'blue', '.'],\n",
        "                       ['leaves', 'are', 'green', '.'],\n",
        "                       ['roses', 'are', 'red', '.']]\n",
        "count_words(tokenized_sentences)"
      ],
      "metadata": {
        "colab": {
          "base_uri": "https://localhost:8080/"
        },
        "id": "UX6UPAxAGwBC",
        "outputId": "12456af7-fda9-4f64-dd68-8e36339eff78"
      },
      "execution_count": 12,
      "outputs": [
        {
          "output_type": "execute_result",
          "data": {
            "text/plain": [
              "{'.': 3,\n",
              " 'are': 2,\n",
              " 'blue': 1,\n",
              " 'green': 1,\n",
              " 'is': 1,\n",
              " 'leaves': 1,\n",
              " 'red': 1,\n",
              " 'roses': 1,\n",
              " 'sky': 1}"
            ]
          },
          "metadata": {},
          "execution_count": 12
        }
      ]
    },
    {
      "cell_type": "markdown",
      "source": [
        "### **Handling 'Out of Vocabulary' words**"
      ],
      "metadata": {
        "id": "zzG0jt5NHCXB"
      }
    },
    {
      "cell_type": "code",
      "source": [
        "# 4. Replace tokens that appear less than N times by <unk>\n",
        "def get_words_with_nplus_frequency(tokenize_sentences, count_threshold):\n",
        "  #Count_threshold = frequency of words \n",
        "\n",
        " \n",
        "  word_counts = count_words(tokenized_sentences)\n",
        "  \n",
        "  # the words that have frequency >= counyt_theshold\n",
        "  closed_vocab = [word for word, count in word_counts.items() if count >= count_threshold]\n",
        "  return closed_vocab"
      ],
      "metadata": {
        "id": "b5P_OC15Gx8M"
      },
      "execution_count": 39,
      "outputs": []
    },
    {
      "cell_type": "code",
      "source": [
        "# test your code\n",
        "tokenized_sentences = [['sky', 'is', 'blue', '.'],\n",
        "                       ['leaves', 'are', 'green', '.'],\n",
        "                       ['roses', 'are', 'red', '.']]\n",
        "tmp_closed_vocab = get_words_with_nplus_frequency(tokenized_sentences, count_threshold=2)\n",
        "print(f\"Closed vocabulary:\")\n",
        "print(tmp_closed_vocab)"
      ],
      "metadata": {
        "colab": {
          "base_uri": "https://localhost:8080/"
        },
        "id": "AVJMTeG5IdJK",
        "outputId": "72a1320d-9956-4213-ea09-efbdf9d7f876"
      },
      "execution_count": 40,
      "outputs": [
        {
          "output_type": "stream",
          "name": "stdout",
          "text": [
            "Closed vocabulary:\n",
            "['.', 'are']\n"
          ]
        }
      ]
    },
    {
      "cell_type": "code",
      "source": [
        "# Replace all other words by '<unk>'\n",
        "def replace_oov_words_by_unk(tokenized_sentences, vocabulary,unknown_token=(\"<unk>\")):\n",
        "  vocabulary = set(vocabulary)\n",
        "  replaced_tokenized_words = []\n",
        "\n",
        "  for sentence in tokenized_sentences:\n",
        "    replaced_sentence = []\n",
        "\n",
        "    for token in sentence:\n",
        "      if token in vocabulary:\n",
        "        replaced_sentence.append(token)\n",
        "      else:\n",
        "        replaced_sentence.append(unknown_token)\n",
        "\n",
        "    replaced_tokenized_words.append(replaced_sentence)\n",
        "\n",
        "  return replaced_tokenized_words"
      ],
      "metadata": {
        "id": "X7t0prrAImdd"
      },
      "execution_count": 41,
      "outputs": []
    },
    {
      "cell_type": "code",
      "source": [
        "tokenized_sentences = [[\"dogs\", \"run\"], [\"cats\", \"sleep\"]]\n",
        "vocabulary = [\"dogs\", \"sleep\"]\n",
        "tmp_replaced_tokenized_sentences = replace_oov_words_by_unk(tokenized_sentences, vocabulary)\n",
        "print(f\"Original sentence:\")\n",
        "print(tokenized_sentences)\n",
        "print(f\"tokenized_sentences with less frequent words converted to '<unk>':\")\n",
        "print(tmp_replaced_tokenized_sentences)"
      ],
      "metadata": {
        "colab": {
          "base_uri": "https://localhost:8080/"
        },
        "id": "RsMnD0OyKnWr",
        "outputId": "4666bdfd-6c4b-49f1-b7ad-846b2e16be85"
      },
      "execution_count": 42,
      "outputs": [
        {
          "output_type": "stream",
          "name": "stdout",
          "text": [
            "Original sentence:\n",
            "[['dogs', 'run'], ['cats', 'sleep']]\n",
            "tokenized_sentences with less frequent words converted to '<unk>':\n",
            "[['dogs', '<unk>'], ['<unk>', 'sleep']]\n"
          ]
        }
      ]
    },
    {
      "cell_type": "markdown",
      "source": [
        " Therefore, "
      ],
      "metadata": {
        "id": "VDtRK3CbK335"
      }
    },
    {
      "cell_type": "code",
      "source": [
        "def preprocess_data(train_data1, test_data, count_threshold, unknown_token=\"<unk>\"):\n",
        "  vocabulary = get_words_with_nplus_frequency(train_data1, count_threshold)\n",
        "    \n",
        "    # For the train data, replace less common words with \"<unk>\"\n",
        "  train_data_replaced = replace_oov_words_by_unk(train_data, vocabulary, unknown_token)\n",
        "    \n",
        "    # For the test data, replace less common words with \"<unk>\"\n",
        "  test_data_replaced = replace_oov_words_by_unk(test_data, vocabulary, unknown_token)\n",
        "    \n",
        "  return train_data_replaced, test_data_replaced, vocabulary"
      ],
      "metadata": {
        "id": "4FYE1nCaKumR"
      },
      "execution_count": 43,
      "outputs": []
    },
    {
      "cell_type": "code",
      "source": [
        "minimum_freq = 2\n",
        "train_data_processed, test_data_processed, vocabulary = preprocess_data(train_data, \n",
        "                                                                        test_data, \n",
        "                                                                        minimum_freq)"
      ],
      "metadata": {
        "id": "RderTnjHMzq1"
      },
      "execution_count": 45,
      "outputs": []
    },
    {
      "cell_type": "code",
      "source": [
        "print(\"First preprocessed training sample:\")\n",
        "print(train_data_processed[0])\n",
        "print()\n",
        "print(\"First preprocessed test sample:\")\n",
        "print(test_data_processed[0])\n",
        "print()\n",
        "print(\"First 10 vocabulary:\")\n",
        "print(vocabulary[0:10])\n",
        "print()\n",
        "print(\"Size of vocabulary:\", len(vocabulary))"
      ],
      "metadata": {
        "colab": {
          "base_uri": "https://localhost:8080/"
        },
        "id": "aTxdENXJN-gI",
        "outputId": "76ab5ebb-1242-4709-d38b-f1d1518bd254"
      },
      "execution_count": 46,
      "outputs": [
        {
          "output_type": "stream",
          "name": "stdout",
          "text": [
            "First preprocessed training sample:\n",
            "['<unk>', '<unk>', '<unk>', '<unk>', '<unk>', '<unk>', '<unk>', '<unk>', '<unk>', '<unk>', '<unk>', '<unk>']\n",
            "\n",
            "First preprocessed test sample:\n",
            "['<unk>', '<unk>', '<unk>', '<unk>', '<unk>', '<unk>', '<unk>', '<unk>', '<unk>', '<unk>', '<unk>', '<unk>', '<unk>', '<unk>', '<unk>', '<unk>', '<unk>', '<unk>', '<unk>', '<unk>', '<unk>', '<unk>', '<unk>', '<unk>', '<unk>', '<unk>']\n",
            "\n",
            "First 10 vocabulary:\n",
            "[]\n",
            "\n",
            "Size of vocabulary: 0\n"
          ]
        }
      ]
    },
    {
      "cell_type": "markdown",
      "source": [
        "# **Part 2: Develop n-gram based language models**\n"
      ],
      "metadata": {
        "id": "25MAWnDLP-2P"
      }
    },
    {
      "cell_type": "code",
      "source": [
        "def count_n_grams(data, n, start_token=\"<s>\", end_token=\"<\\s\"):\n",
        "  n_grams = {}\n",
        "  for sentence in data:\n",
        "    sentence = [start_token] * n + sentence + [end_token]\n",
        "    sentence = tuple(sentence)\n",
        "    M = len(sentence) -n +1\n",
        "    for i in range(M):\n",
        "      n_gram = sentence[i : i+n]\n",
        "      if n_gram in n_grams.keys():\n",
        "        n_grams[n_gram] += 1\n",
        "      else:\n",
        "        n_grams[n_gram] = 1\n",
        "    \n",
        "  return n_grams"
      ],
      "metadata": {
        "id": "9AA9wndOOYPQ"
      },
      "execution_count": 65,
      "outputs": []
    },
    {
      "cell_type": "code",
      "source": [
        "# test your code\n",
        "# CODE REVIEW COMMENT: Outcome does not match expected outcome\n",
        "sentences = [['i', 'like', 'a', 'cat'],\n",
        "             ['this', 'dog', 'is', 'like', 'a', 'cat']]\n",
        "print(\"Uni-gram:\")\n",
        "print(count_n_grams(sentences, 1))\n",
        "print(\"Bi-gram:\")\n",
        "print(count_n_grams(sentences, 2))"
      ],
      "metadata": {
        "colab": {
          "base_uri": "https://localhost:8080/"
        },
        "id": "FFwqSLnHTBZz",
        "outputId": "4df4c5f4-492e-4158-c02a-b91ed5862d2f"
      },
      "execution_count": 66,
      "outputs": [
        {
          "output_type": "stream",
          "name": "stdout",
          "text": [
            "Uni-gram:\n",
            "{('<s>',): 2, ('i',): 1, ('like',): 2, ('a',): 2, ('cat',): 2, ('<\\\\s',): 2, ('this',): 1, ('dog',): 1, ('is',): 1}\n",
            "Bi-gram:\n",
            "{('<s>', '<s>'): 2, ('<s>', 'i'): 1, ('i', 'like'): 1, ('like', 'a'): 2, ('a', 'cat'): 2, ('cat', '<\\\\s'): 2, ('<s>', 'this'): 1, ('this', 'dog'): 1, ('dog', 'is'): 1, ('is', 'like'): 1}\n"
          ]
        }
      ]
    },
    {
      "cell_type": "markdown",
      "source": [
        "### **Estimate the probabilities of a next word using the n-gram counts with k-smoothing**"
      ],
      "metadata": {
        "id": "sCBe68t8VC6q"
      }
    },
    {
      "cell_type": "code",
      "source": [
        "### UNQ_C9 GRADED FUNCTION: estimate_probability ###\n",
        "def estimate_probability(word, previous_n_gram, \n",
        "                         n_gram_counts, n_plus1_gram_counts, vocabulary_size, k=1.0):\n",
        "    \"\"\"\n",
        "    Estimate the probabilities of a next word using the n-gram counts with k-smoothing\n",
        "    \n",
        "    Args:\n",
        "        word: next word\n",
        "        previous_n_gram: A sequence of words of length n\n",
        "        n_gram_counts: Dictionary of counts of n-grams\n",
        "        n_plus1_gram_counts: Dictionary of counts of (n+1)-grams\n",
        "        vocabulary_size: number of words in the vocabulary\n",
        "        k: positive constant, smoothing parameter\n",
        "    \n",
        "    Returns:\n",
        "        A probability\n",
        "    \"\"\"\n",
        "    # convert list to tuple to use it as a dictionary key\n",
        "    previous_n_gram = tuple(previous_n_gram)\n",
        "        \n",
        "    # Set the denominator\n",
        "    # If the previous n-gram exists in the dictionary of n-gram counts,\n",
        "    # Get its count.  Otherwise set the count to zero\n",
        "    # Use the dictionary that has counts for n-grams\n",
        "    previous_n_gram_count = n_gram_counts[previous_n_gram] if previous_n_gram in n_gram_counts else 0\n",
        "\n",
        "            \n",
        "    # Calculate the denominator using the count of the previous n gram\n",
        "    # and apply k-smoothing\n",
        "    denominator = previous_n_gram_count + (k * vocabulary_size)\n",
        "\n",
        "    # Define n plus 1 gram as the previous n-gram plus the current word as a tuple\n",
        "    n_plus1_gram = previous_n_gram + (word,)\n",
        "  \n",
        "    # Set the count to the count in the dictionary,\n",
        "    # otherwise 0 if not in the dictionary\n",
        "    # use the dictionary that has counts for the n-gram plus current word    \n",
        "    n_plus1_gram_count = n_plus1_gram_counts[n_plus1_gram] if n_plus1_gram in n_plus1_gram_counts else 0\n",
        "    \n",
        "    # Define the numerator use the count of the n-gram plus current word,\n",
        "    # and apply smoothing\n",
        "    numerator = n_plus1_gram_count + k\n",
        "        \n",
        "    # Calculate the probability as the numerator divided by denominator\n",
        "    probability = numerator / denominator\n",
        "    \n",
        "    return probability"
      ],
      "metadata": {
        "id": "lGxStsTeTCuM"
      },
      "execution_count": 67,
      "outputs": []
    },
    {
      "cell_type": "code",
      "source": [
        "# test your code\n",
        "sentences = [['i', 'like', 'a', 'cat'],\n",
        "             ['this', 'dog', 'is', 'like', 'a', 'cat']]\n",
        "unique_words = list(set(sentences[0] + sentences[1]))\n",
        "\n",
        "unigram_counts = count_n_grams(sentences, 1)\n",
        "bigram_counts = count_n_grams(sentences, 2)\n",
        "tmp_prob = estimate_probability(\"cat\", \"a\", unigram_counts, bigram_counts, len(unique_words), k=1)\n",
        "\n",
        "print(f\"The estimated probability of word 'cat' given the previous n-gram 'a' is: {tmp_prob:.4f}\")"
      ],
      "metadata": {
        "colab": {
          "base_uri": "https://localhost:8080/"
        },
        "id": "J_zp4Zf_YWEh",
        "outputId": "14ea2750-37d0-4f43-faf8-4098100821b2"
      },
      "execution_count": 68,
      "outputs": [
        {
          "output_type": "stream",
          "name": "stdout",
          "text": [
            "The estimated probability of word 'cat' given the previous n-gram 'a' is: 0.3333\n"
          ]
        }
      ]
    },
    {
      "cell_type": "markdown",
      "source": [
        "## **Part 3: Perplexity**"
      ],
      "metadata": {
        "id": "K8bDSGZ2YjHC"
      }
    },
    {
      "cell_type": "code",
      "source": [
        "# UNQ_C10 GRADED FUNCTION: calculate_perplexity\n",
        "def calculate_perplexity(sentence, n_gram_counts, n_plus1_gram_counts, vocabulary_size, start_token='<s>', end_token = '<e>', k=1.0):\n",
        "\n",
        "    # length of previous words\n",
        "    n = len(list(n_gram_counts.keys())[0]) \n",
        "    \n",
        "    # prepend <s> and append <e>\n",
        "    sentence = [start_token] * n + sentence + [end_token]\n",
        "    \n",
        "    # Cast the sentence from a list to a tuple\n",
        "    sentence = tuple(sentence)\n",
        "    \n",
        "    # length of sentence (after adding <s> and <e> tokens)\n",
        "    N = len(sentence)\n",
        "    \n",
        "    # The variable p will hold the product\n",
        "    # that is calculated inside the n-root\n",
        "    # Update this in the code below\n",
        "    product_pi = 1.0\n",
        "        \n",
        "    for t in range(n, N):\n",
        "\n",
        "        # get the n-gram preceding the word at position t\n",
        "        n_gram = sentence[t-n:t]\n",
        "        \n",
        "        # get the word at position t\n",
        "        word = sentence[t]\n",
        "        \n",
        "        # Estimate the probability of the word given the n-gram\n",
        "        # using the n-gram counts, n-plus1-gram counts,\n",
        "        # vocabulary size, and smoothing constant\n",
        "        probability = estimate_probability(word, n_gram, n_gram_counts, n_plus1_gram_counts, vocabulary_size, k=1.0)\n",
        "        \n",
        "        # Update the product of the probabilities\n",
        "        # This 'product_pi' is a cumulative product \n",
        "        # of the (1/P) factors that are calculated in the loop\n",
        "        product_pi *=  1 / probability\n",
        "        ### END CODE HERE ###\n",
        "\n",
        "    # Take the Nth root of the product\n",
        "    perplexity = (product_pi)**(1/N)\n",
        "    \n",
        "    return perplexity"
      ],
      "metadata": {
        "id": "VLF6AH8YYfBh"
      },
      "execution_count": 69,
      "outputs": []
    },
    {
      "cell_type": "code",
      "source": [
        "# test your code\n",
        "\n",
        "sentences = [['i', 'like', 'a', 'cat'],\n",
        "                 ['this', 'dog', 'is', 'like', 'a', 'cat']]\n",
        "unique_words = list(set(sentences[0] + sentences[1]))\n",
        "\n",
        "unigram_counts = count_n_grams(sentences, 1)\n",
        "bigram_counts = count_n_grams(sentences, 2)\n",
        "\n",
        "\n",
        "perplexity_train = calculate_perplexity(sentences[0],\n",
        "                                         unigram_counts, bigram_counts,\n",
        "                                         len(unique_words), k=1.0)\n",
        "print(f\"Perplexity for first train sample: {perplexity_train:.4f}\")\n",
        "\n",
        "test_sentence = ['i', 'like', 'a', 'dog']\n",
        "perplexity_test = calculate_perplexity(test_sentence,\n",
        "                                       unigram_counts, bigram_counts,\n",
        "                                       len(unique_words), k=1.0)\n",
        "print(f\"Perplexity for test sample: {perplexity_test:.4f}\")"
      ],
      "metadata": {
        "colab": {
          "base_uri": "https://localhost:8080/"
        },
        "id": "gucp4QUmbFpn",
        "outputId": "ae6ab94d-f13a-47cf-d6a3-fb2fa68eda78"
      },
      "execution_count": 70,
      "outputs": [
        {
          "output_type": "stream",
          "name": "stdout",
          "text": [
            "Perplexity for first train sample: 3.3674\n",
            "Perplexity for test sample: 3.9654\n"
          ]
        }
      ]
    },
    {
      "cell_type": "code",
      "source": [
        ""
      ],
      "metadata": {
        "id": "eSSUx9I_bHYk"
      },
      "execution_count": null,
      "outputs": []
    }
  ]
}
